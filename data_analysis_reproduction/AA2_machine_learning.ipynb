{
 "cells": [
  {
   "cell_type": "markdown",
   "id": "a1403ffa",
   "metadata": {},
   "source": [
    "# Trust in the Machine: How Contextual Factors and Personality Traits Shape Algorithm Aversion and Collaboration - Notebook 2 / 3."
   ]
  },
  {
   "cell_type": "markdown",
   "id": "cc608109",
   "metadata": {},
   "source": [
    "## Machine Learning models implementation - Random Forest and Gradient Boosting Machines"
   ]
  },
  {
   "cell_type": "markdown",
   "id": "44ae759b",
   "metadata": {},
   "source": [
    "**Authors:**<br>\n",
    "Vinicius Ferraz - Alfred-Weber Institute for Economics, University of Heidelberg <br>\n",
    "Christiane Schwieren - Alfred-Weber Institute for Economics, University of Heidelberg <br>\n",
    "Leon Houf - Alfred-Weber Institute for Economics, University of Heidelberg <br>\n",
    "Thomas Pitz - Faculty of Society and Economics, Rhine-Waal University<br>\n",
    "Jörn Sickmann -  Faculty of Society and Economics, Rhine-Waal University"
   ]
  },
  {
   "cell_type": "markdown",
   "id": "3e219abd",
   "metadata": {},
   "source": [
    "This Jupyter Notebook contains the reproduction of the machine learning models implemented in the paper. In case of any questions, plese contact Vinicius Ferraz (visferraz@gmail.com). "
   ]
  },
  {
   "cell_type": "code",
   "execution_count": 11,
   "id": "fe7f4ede",
   "metadata": {},
   "outputs": [],
   "source": [
    "import pandas as pd\n",
    "import numpy as np\n",
    "import matplotlib.pyplot as plt\n",
    "import seaborn as sns\n",
    "import statsmodels.api as sm\n",
    "import warnings\n",
    "\n",
    "import numpy as np\n",
    "from sklearn.metrics import (\n",
    "    classification_report, confusion_matrix, accuracy_score, roc_curve, roc_auc_score, auc, \n",
    "    mean_squared_error, mean_absolute_error, r2_score, precision_score, recall_score, f1_score, make_scorer\n",
    ")\n",
    "\n",
    "from sklearn.model_selection import train_test_split, cross_val_score, GridSearchCV, cross_validate\n",
    "from sklearn.ensemble import RandomForestClassifier, GradientBoostingClassifier\n",
    "from sklearn.model_selection import GroupKFold\n",
    "\n",
    "%matplotlib inline\n",
    "warnings.filterwarnings('ignore')"
   ]
  },
  {
   "cell_type": "markdown",
   "id": "3b5aa34b",
   "metadata": {},
   "source": [
    "#### Data Parsing"
   ]
  },
  {
   "cell_type": "code",
   "execution_count": 12,
   "id": "b4742e13",
   "metadata": {},
   "outputs": [],
   "source": [
    "# reading pre-processed merged dataset (generated from the Data Analysis file)\n",
    "df_merged = pd.read_csv('data/df_merged_processed.csv')"
   ]
  },
  {
   "cell_type": "code",
   "execution_count": 50,
   "id": "2adabd0b",
   "metadata": {},
   "outputs": [],
   "source": [
    "# defining x and y variables for ALL models\n",
    "\n",
    "dependent_var = ['delegation_bin']\n",
    "\n",
    "independent_vars = ['explanation_d', 'payment_d', 'automation_d','female','stem','business_econ','age',\n",
    "                    'extraversion','agreeableness', 'conscientiousness', 'neuroticism', 'openness', 'internal_loc',\n",
    "                   'external_loc', 'trust', 'perception']"
   ]
  },
  {
   "cell_type": "code",
   "execution_count": 45,
   "id": "b483f439",
   "metadata": {},
   "outputs": [],
   "source": [
    "# Data split for training and predictions\n",
    "df_train, df_test = train_test_split(df_merged, test_size=0.2, random_state=42)"
   ]
  },
  {
   "cell_type": "markdown",
   "id": "3f873af1",
   "metadata": {},
   "source": [
    "### Logistic Regression Prediction Model"
   ]
  },
  {
   "cell_type": "markdown",
   "id": "1114563b",
   "metadata": {},
   "source": [
    "Prediction Benchmark using the Logistic Regression Model"
   ]
  },
  {
   "cell_type": "code",
   "execution_count": 32,
   "id": "aa0557d4",
   "metadata": {},
   "outputs": [
    {
     "name": "stdout",
     "output_type": "stream",
     "text": [
      "Optimization terminated successfully.\n",
      "         Current function value: 0.635435\n",
      "         Iterations 5\n",
      "\n",
      "Confusion Matrix:\n",
      "[[ 739  636]\n",
      " [ 425 1000]]\n",
      "\n",
      "Accuracy: 0.6210714285714286\n",
      "Precision: 0.6112469437652812\n",
      "Recall: 0.7017543859649122\n",
      "F1 Score: 0.6533812479581836\n"
     ]
    }
   ],
   "source": [
    "# Data Split\n",
    "X_train = df_train[independent_vars]\n",
    "X_test = df_test[independent_vars]\n",
    "y_train = df_train[dependent_var]\n",
    "y_test = df_test[dependent_var]\n",
    "\n",
    "X_train = sm.add_constant(X_train)\n",
    "X_test = sm.add_constant(X_test)\n",
    "\n",
    "# Model Fit\n",
    "logit_model = sm.Logit(y_train, X_train)\n",
    "result_logit = logit_model.fit()\n",
    "\n",
    "# Predicted Classes\n",
    "y_pred_class = [1 if x > 0.5 else 0 for x in y_pred]\n",
    "\n",
    "# Performance Mterics\n",
    "cm = confusion_matrix(y_test, y_pred_class)\n",
    "acc = accuracy_score(y_test, y_pred_class)\n",
    "\n",
    "TN, FP, FN, TP = cm.ravel()\n",
    "\n",
    "precision = TP / (TP + FP)\n",
    "recall = TP / (TP + FN)\n",
    "f1_score_value = 2 * (precision * recall) / (precision + recall)\n",
    "\n",
    "print()\n",
    "print(\"Confusion Matrix:\")\n",
    "print(cm)\n",
    "print()\n",
    "print(\"Accuracy:\", acc)\n",
    "print(\"Precision:\", precision)\n",
    "print(\"Recall:\", recall)\n",
    "print(\"F1 Score:\", f1_score_value)"
   ]
  },
  {
   "cell_type": "markdown",
   "id": "e1ca3796",
   "metadata": {},
   "source": [
    "### Machine Learning Models"
   ]
  },
  {
   "cell_type": "markdown",
   "id": "02d803a9",
   "metadata": {},
   "source": [
    "Functions for model fitting and computation of metrics"
   ]
  },
  {
   "cell_type": "code",
   "execution_count": 48,
   "id": "d6fad6be",
   "metadata": {
    "scrolled": true
   },
   "outputs": [],
   "source": [
    "# Random Forest Model Fit\n",
    "def fit_random_forest(df_train, df_test, independent_vars, dependent_var, best_params):\n",
    "    rf_clf = RandomForestClassifier(n_estimators=best_params['n_estimators'], \n",
    "                                     max_depth=best_params['max_depth'], \n",
    "                                     max_features=best_params['max_features'], \n",
    "                                     min_samples_leaf=best_params['min_samples_leaf'], \n",
    "                                     random_state=42,\n",
    "                                     min_samples_split=best_params['min_samples_split'],\n",
    "                                     bootstrap=best_params['bootstrap'], \n",
    "                                    class_weight=best_params['class_weight'],\n",
    "                                    criterion=best_params['criterion'])\n",
    "                                                          \n",
    "    rf_clf.fit(df_train[independent_vars], df_train[dependent_var].values.ravel())\n",
    "\n",
    "    y_pred = rf_clf.predict(df_test[independent_vars])\n",
    "\n",
    "    return rf_clf, y_pred\n",
    "\n",
    "# GBM Model Fit:\n",
    "def fit_gradient_boosting(df_train, df_test, independent_vars, dependent_var, best_params):\n",
    "    gb_clf = GradientBoostingClassifier(n_estimators=best_params['n_estimators'], \n",
    "                                       max_depth=best_params['max_depth'], \n",
    "                                       max_features=best_params['max_features'], \n",
    "                                       min_samples_leaf=best_params['min_samples_leaf'],\n",
    "                                       learning_rate=best_params['learning_rate'],\n",
    "                                       min_samples_split=best_params['min_samples_split'],\n",
    "                                       subsample=best_params['subsample'],\n",
    "                                       random_state=42)\n",
    "\n",
    "    gb_clf.fit(df_train[independent_vars].values, df_train[dependent_var].values.ravel())\n",
    "\n",
    "    y_pred = gb_clf.predict(df_test[independent_vars].values)\n",
    "\n",
    "    return gb_clf, y_pred\n",
    "\n",
    "# Performance metrics calculation:\n",
    "def calculate_metrics(df_test, independent_vars, dependent_var, rf_model):\n",
    "    metrics = {}\n",
    "    y_test = df_test[dependent_var]\n",
    "    y_pred = rf_model.predict(df_test[independent_vars])\n",
    "\n",
    "    metrics['mse'] = mean_squared_error(y_test, y_pred)\n",
    "    metrics['mae'] = mean_absolute_error(y_test, y_pred)\n",
    "    metrics['rmse'] = mean_squared_error(y_test, y_pred, squared=False)\n",
    "\n",
    "    scores = cross_val_score(rf_model, df_test[independent_vars], df_test[dependent_var], cv=5, \n",
    "                             scoring='neg_mean_squared_error')\n",
    "    metrics['cv_rmse_scores'] = np.sqrt(-scores)\n",
    "    \n",
    "    y_pred_cat = y_pred > 0.5\n",
    "    metrics['f1'] = f1_score(y_test > 0.5, y_pred_cat)\n",
    "    metrics['precision'] = precision_score(y_test > 0.5, y_pred_cat)\n",
    "    metrics['recall'] = recall_score(y_test > 0.5, y_pred_cat)\n",
    "    metrics['confusion_mat'] = confusion_matrix(y_test > 0.5, y_pred_cat)\n",
    "    metrics['accuracy'] = accuracy_score(y_test > 0.5, y_pred_cat)\n",
    "\n",
    "    return metrics\n",
    "\n",
    "# ROC-AUC calculation:\n",
    "def calculate_roc_auc(rf_model, df_test, independent_vars, dependent_var):\n",
    "    y_test = df_test[dependent_var]\n",
    "    y_pred_proba = rf_model.predict_proba(df_test[independent_vars])[:, 1] \n",
    "    fpr, tpr, _ = roc_curve(y_test, y_pred_proba)\n",
    "    roc_auc = auc(fpr, tpr)\n",
    "    return roc_auc, fpr, tpr"
   ]
  },
  {
   "cell_type": "markdown",
   "id": "80832890",
   "metadata": {},
   "source": [
    "### Parameter Tuning"
   ]
  },
  {
   "cell_type": "markdown",
   "id": "c7ba9efa",
   "metadata": {},
   "source": [
    "The functions below refer to the grid-search function for hyperparameter tuning. The computed values of our parameters are specified below. \n",
    "\n",
    "<font color='red'>VERY IMPORTANT:</font> Grid search operations are performance intensive and might take several hours or even days to run, so dont execute these functions if not necessary. "
   ]
  },
  {
   "cell_type": "code",
   "execution_count": 26,
   "id": "78067c81",
   "metadata": {},
   "outputs": [],
   "source": [
    "def hyperparameter_tuning_rf(df_train, independent_vars, dependent_var):\n",
    "    # grid definition\n",
    "    param_grid = {\n",
    "        'n_estimators': [100, 200, 300, 400, 500],\n",
    "        'max_depth': [5, 10, 15, 20, 25, 30],\n",
    "        'max_features': ['auto', 'sqrt', 'log2', None],\n",
    "        'min_samples_leaf': [1, 2, 5, 10, 20],\n",
    "        'min_samples_split': [2, 5, 10, 15, 20],\n",
    "        'bootstrap': [True, False],\n",
    "        'class_weight': ['balanced', 'balanced_subsample', None],\n",
    "        'criterion': ['gini', 'entropy']\n",
    "    }\n",
    "\n",
    "    # base model\n",
    "    rf = RandomForestClassifier(random_state=42)\n",
    "\n",
    "    # GroupKFold cross-validator\n",
    "    gkf = GroupKFold(n_splits=5)\n",
    "\n",
    "    # instance the grid search model\n",
    "    grid_search = GridSearchCV(estimator=rf, param_grid=param_grid, cv=gkf, n_jobs=-1, scoring='roc_auc')\n",
    "\n",
    "    # fitting the grid search to the data (grouped on the participant level)\n",
    "    grid_search.fit(df_train[independent_vars], df_train[dependent_var], groups=df_train['participant_code'])\n",
    "\n",
    "    # get best parameters\n",
    "    rf_params = grid_search.best_params_\n",
    "    \n",
    "    return rf_params\n",
    "\n",
    "def hyperparameter_tuning_gbm(df_train, independent_vars, dependent_var):\n",
    "    param_grid = {\n",
    "        'n_estimators': [100, 200, 300, 400, 500],\n",
    "        'max_depth': [5, 10, 15, 20, 25, 30],\n",
    "        'max_features': ['auto', 'sqrt', 'log2', None],\n",
    "        'min_samples_leaf': [1, 2, 5, 10, 20],\n",
    "        'min_samples_split': [2, 5, 10, 15, 20],\n",
    "        'learning_rate': [0.01, 0.05, 0.1, 0.15, 0.2],\n",
    "        'subsample': [0.5, 0.6, 0.7, 0.8, 0.9, 1.0]\n",
    "    }\n",
    "    gbm = GradientBoostingClassifier(random_state=42)\n",
    "    gkf = GroupKFold(n_splits=5)\n",
    "    grid_search = GridSearchCV(estimator=gbm, param_grid=param_grid, cv=gkf, n_jobs=-1, scoring='roc_auc')\n",
    "    grid_search.fit(df_train[independent_vars], df_train[dependent_var], groups=df_train['participant_code'])\n",
    "    gbm_params = grid_search.best_params_\n",
    "    return gbm_params"
   ]
  },
  {
   "cell_type": "markdown",
   "id": "aab74e9d",
   "metadata": {},
   "source": [
    "Uncomment these functions below if you want to run the grid search functions"
   ]
  },
  {
   "cell_type": "code",
   "execution_count": null,
   "id": "2e7ff761",
   "metadata": {},
   "outputs": [],
   "source": [
    "#%%time\n",
    "#rf_params = hyperparameter_tuning_rf(df_train, independent_vars, dependent_var)\n",
    "#print(rf_params)"
   ]
  },
  {
   "cell_type": "code",
   "execution_count": 1,
   "id": "9a4980c4",
   "metadata": {},
   "outputs": [],
   "source": [
    "#%%time\n",
    "#gbm_params = hyperparameter_tuning_gbm(df_train, independent_vars, dependent_var)\n",
    "#print(gbm_params)"
   ]
  },
  {
   "cell_type": "markdown",
   "id": "9394e191",
   "metadata": {},
   "source": [
    "Computed model parameters used in the paper:"
   ]
  },
  {
   "cell_type": "code",
   "execution_count": 36,
   "id": "6a68f7c0",
   "metadata": {
    "scrolled": true
   },
   "outputs": [],
   "source": [
    "rf_prams = {'bootstrap': True,\n",
    " 'class_weight': 'balanced_subsample',\n",
    " 'criterion': 'entropy',\n",
    " 'max_depth': 15,\n",
    " 'max_features': 'auto',\n",
    " 'min_samples_leaf': 1,\n",
    " 'min_samples_split': 10,\n",
    " 'n_estimators': 100}"
   ]
  },
  {
   "cell_type": "code",
   "execution_count": 37,
   "id": "f9393b11",
   "metadata": {},
   "outputs": [],
   "source": [
    "gbm_params = {'learning_rate': 0.05,\n",
    " 'max_depth': 10,\n",
    " 'max_features': 'sqrt',\n",
    " 'min_samples_leaf': 1,\n",
    " 'min_samples_split': 15,\n",
    " 'n_estimators': 100,\n",
    " 'subsample': 0.7}"
   ]
  },
  {
   "cell_type": "markdown",
   "id": "23285adb",
   "metadata": {},
   "source": [
    "### Models Fitting"
   ]
  },
  {
   "cell_type": "code",
   "execution_count": 38,
   "id": "b5d628a7",
   "metadata": {},
   "outputs": [],
   "source": [
    "# fit\n",
    "rf_model, rf_y_pred = fit_random_forest(df_train, df_test, independent_vars, dependent_var, rf_prams)"
   ]
  },
  {
   "cell_type": "code",
   "execution_count": 39,
   "id": "1028d032",
   "metadata": {},
   "outputs": [],
   "source": [
    "gbm_model, gbm_y_pred = fit_gradient_boosting(df_train, df_test, independent_vars, dependent_var, gbm_params)"
   ]
  },
  {
   "cell_type": "markdown",
   "id": "dd80f75a",
   "metadata": {},
   "source": [
    "Performance metrics"
   ]
  },
  {
   "cell_type": "code",
   "execution_count": 40,
   "id": "1a4988ca",
   "metadata": {},
   "outputs": [
    {
     "data": {
      "text/plain": [
       "{'mse': 0.1667857142857143,\n",
       " 'mae': 0.1667857142857143,\n",
       " 'rmse': 0.4083940673977945,\n",
       " 'cv_rmse_scores': array([0.42678198, 0.45903626, 0.43915503, 0.42257713, 0.42468476]),\n",
       " 'f1': 0.8405599180607716,\n",
       " 'precision': 0.8184840425531915,\n",
       " 'recall': 0.863859649122807,\n",
       " 'confusion_mat': array([[1102,  273],\n",
       "        [ 194, 1231]]),\n",
       " 'accuracy': 0.8332142857142857}"
      ]
     },
     "execution_count": 40,
     "metadata": {},
     "output_type": "execute_result"
    }
   ],
   "source": [
    "metrics_rf = calculate_metrics(df_test, independent_vars, dependent_var, rf_model)\n",
    "metrics_rf"
   ]
  },
  {
   "cell_type": "code",
   "execution_count": 41,
   "id": "06801faa",
   "metadata": {},
   "outputs": [
    {
     "data": {
      "text/plain": [
       "{'mse': 0.1675,\n",
       " 'mae': 0.1675,\n",
       " 'rmse': 0.40926763859362253,\n",
       " 'cv_rmse_scores': array([0.4309458 , 0.45903626, 0.43711718, 0.41833001, 0.43506978]),\n",
       " 'f1': 0.8413933040243491,\n",
       " 'precision': 0.8120104438642297,\n",
       " 'recall': 0.8729824561403509,\n",
       " 'confusion_mat': array([[1087,  288],\n",
       "        [ 181, 1244]]),\n",
       " 'accuracy': 0.8325}"
      ]
     },
     "execution_count": 41,
     "metadata": {},
     "output_type": "execute_result"
    }
   ],
   "source": [
    "metrics_gbm = calculate_metrics(df_test, independent_vars, dependent_var, gbm_model)\n",
    "metrics_gbm"
   ]
  },
  {
   "cell_type": "markdown",
   "id": "8764f57c",
   "metadata": {},
   "source": [
    "Area under the ROC curve:"
   ]
  },
  {
   "cell_type": "code",
   "execution_count": 49,
   "id": "af50df6a",
   "metadata": {},
   "outputs": [
    {
     "name": "stdout",
     "output_type": "stream",
     "text": [
      "0.9176811483253587\n",
      "0.9172281977671451\n"
     ]
    }
   ],
   "source": [
    "auc_rf = calculate_roc_auc(rf_model, df_test, independent_vars, dependent_var)\n",
    "auc_gbm = calculate_roc_auc(gbm_model, df_test, independent_vars, dependent_var)\n",
    "print(auc_rf[0])\n",
    "print(auc_gbm[0])"
   ]
  },
  {
   "cell_type": "markdown",
   "id": "b8f48715",
   "metadata": {},
   "source": [
    "### Feature Importances"
   ]
  },
  {
   "cell_type": "code",
   "execution_count": 66,
   "id": "dba463d4",
   "metadata": {},
   "outputs": [
    {
     "data": {
      "image/png": "[encoded data removed]",
      "text/plain": [
       "<Figure size 864x288 with 2 Axes>"
      ]
     },
     "metadata": {
      "needs_background": "light"
     },
     "output_type": "display_data"
    }
   ],
   "source": [
    "X_train = df_train[independent_vars]\n",
    "importances_rf = rf_model.feature_importances_\n",
    "importances_gbm = gbm_model.feature_importances_\n",
    "feature_names = independent_vars\n",
    "\n",
    "# Create mapping of original to new feature names\n",
    "new_feature_names = {\n",
    "    'explanation_d': 'Explanation', \n",
    "    'payment_d': 'Payment', \n",
    "    'automation_d': 'Automation', \n",
    "    'female': 'Female',\n",
    "    'stem': 'STEM',\n",
    "    'age': 'Age', \n",
    "    'extraversion': 'Extraversion', \n",
    "    'agreeableness': 'Agreeableness', \n",
    "    'conscientiousness': 'Conscientiousness',\n",
    "    'neuroticism': 'Neuroticism', \n",
    "    'openness': 'Openness', \n",
    "    'internal_loc': 'LoC Internal', \n",
    "    'external_loc': 'LoC External',\n",
    "    'trust': 'Generalized Trust',\n",
    "    'perception': 'Perception',\n",
    "    'business_econ': 'Business & Economics'\n",
    "}\n",
    "\n",
    "feature_names = np.array([new_feature_names.get(f, f) for f in feature_names])\n",
    "\n",
    "indices_rf = np.argsort(importances_rf)[::1]\n",
    "indices_gbm = np.argsort(importances_gbm)[::1]\n",
    "\n",
    "fig, ax = plt.subplots(1, 2, figsize=(12, 4), sharex=True)  # Creates a figure with 1 row and 2 columns of subplots\n",
    "\n",
    "# Plot for Random Forest\n",
    "ax[0].barh(range(X_train.shape[1]), importances_rf[indices_rf], color='royalblue', edgecolor='black', linewidth=0.5)\n",
    "ax[0].set_yticks(range(X_train.shape[1]))\n",
    "ax[0].set_yticklabels(feature_names[indices_rf])\n",
    "ax[0].set_title(\"Random Forest (RF)\")\n",
    "\n",
    "# Plot for Gradient Boosting Machine\n",
    "ax[1].barh(range(X_train.shape[1]), importances_gbm[indices_gbm], color='darkturquoise',\n",
    "           edgecolor='black', linewidth=0.5)\n",
    "ax[1].set_yticks(range(X_train.shape[1]))\n",
    "ax[1].set_yticklabels(feature_names[indices_gbm])\n",
    "ax[1].set_title(\"Gradient Boosting Machines (GBM)\")\n",
    "\n",
    "plt.tight_layout()"
   ]
  },
  {
   "cell_type": "markdown",
   "id": "8cbd2c73",
   "metadata": {},
   "source": [
    "### Combined ROC-AUC Curves "
   ]
  },
  {
   "cell_type": "code",
   "execution_count": 69,
   "id": "62fd95cb",
   "metadata": {},
   "outputs": [],
   "source": [
    "# Generating multiple curves for all models\n",
    "def calculate_roc_auc_plot(model, model_name, df_test, independent_vars, dependent_var):\n",
    "    y_test = df_test[dependent_var]\n",
    "    if model_name == 'Logistic Regression':\n",
    "        X_test = sm.add_constant(df_test[independent_vars])\n",
    "        y_pred_proba = model.predict(X_test)\n",
    "    elif model_name == 'Support Vector Machine':\n",
    "        X_test_scaled = scaler.transform(df_test[independent_vars])\n",
    "        y_pred_proba = model.decision_function(X_test_scaled)\n",
    "    else:\n",
    "        y_pred_proba = model.predict_proba(df_test[independent_vars])[:, 1]\n",
    "    fpr, tpr, _ = roc_curve(y_test, y_pred_proba)\n",
    "    roc_auc = auc(fpr, tpr)\n",
    "    return roc_auc, fpr, tpr\n",
    "\n",
    "# Plotting all curves in the same figure\n",
    "def plot_roc_auc(models_dict, df_test, independent_vars, dependent_var):\n",
    "    model_colors = {'Random Forest': 'royalblue', 'Gradient Boosting Machine': 'darkturquoise', \n",
    "                    'Logistic Regression': 'purple'}\n",
    "    \n",
    "    plt.figure(figsize=(6, 3.5))\n",
    "    for model_name, model in models_dict.items():\n",
    "        roc_auc, fpr, tpr = calculate_roc_auc_plot(model, model_name, df_test, independent_vars, dependent_var)\n",
    "        plt.plot(fpr, tpr, color=model_colors[model_name], lw=1, \n",
    "                 label='{} (AUC = {:.3f})'.format(model_name, roc_auc))\n",
    "    plt.plot([0, 1], [0, 1], color='dimgray', lw=1.2, linestyle='--')\n",
    "    plt.xlim([0.0, 1.0])\n",
    "    plt.ylim([0.0, 1.0])\n",
    "    plt.xlabel('False Positive Rate')\n",
    "    plt.ylabel('True Positive Rate')\n",
    "    plt.legend(loc=\"lower right\")\n",
    "    plt.tight_layout()"
   ]
  },
  {
   "cell_type": "code",
   "execution_count": 71,
   "id": "a9d3f2c8",
   "metadata": {},
   "outputs": [
    {
     "data": {
      "image/png": "[encoded data removed]",
      "text/plain": [
       "<Figure size 432x252 with 1 Axes>"
      ]
     },
     "metadata": {
      "needs_background": "light"
     },
     "output_type": "display_data"
    }
   ],
   "source": [
    "models_dict = {\n",
    "    'Logistic Regression': result_logit,\n",
    "    'Random Forest': rf_model,\n",
    "    'Gradient Boosting Machine': gbm_model,\n",
    "}\n",
    "\n",
    "plot_roc_auc(models_dict, df_test, independent_vars, dependent_var)\n",
    "plt.tight_layout()"
   ]
  }
 ],
 "metadata": {
  "kernelspec": {
   "display_name": "Python 3",
   "language": "python",
   "name": "python3"
  },
  "language_info": {
   "codemirror_mode": {
    "name": "ipython",
    "version": 3
   },
   "file_extension": ".py",
   "mimetype": "text/x-python",
   "name": "python",
   "nbconvert_exporter": "python",
   "pygments_lexer": "ipython3",
   "version": "3.8.16"
  }
 },
 "nbformat": 4,
 "nbformat_minor": 5
}
